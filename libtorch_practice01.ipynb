{
  "nbformat": 4,
  "nbformat_minor": 0,
  "metadata": {
    "colab": {
      "provenance": [],
      "authorship_tag": "ABX9TyOV+xkR/OkQPXrR56lx8AbF",
      "include_colab_link": true
    },
    "kernelspec": {
      "name": "python3",
      "display_name": "Python 3"
    },
    "language_info": {
      "name": "python"
    }
  },
  "cells": [
    {
      "cell_type": "markdown",
      "metadata": {
        "id": "view-in-github",
        "colab_type": "text"
      },
      "source": [
        "<a href=\"https://colab.research.google.com/github/Knightler/LibTorch-practice/blob/main/libtorch_practice01.ipynb\" target=\"_parent\"><img src=\"https://colab.research.google.com/assets/colab-badge.svg\" alt=\"Open In Colab\"/></a>"
      ]
    },
    {
      "cell_type": "code",
      "execution_count": 5,
      "metadata": {
        "id": "olRaIGg5H3h9"
      },
      "outputs": [],
      "source": [
        "!wget https://download.pytorch.org/libtorch/cu117/libtorch-shared-with-deps-2.0.1%2Bcu117.zip\n",
        "!unzip libtorch-shared-with-deps-2.0.1+cu117.zip"
      ]
    },
    {
      "cell_type": "code",
      "source": [
        "!wget https://download.pytorch.org/libtorch/cu118/libtorch-cxx11-abi-shared-with-deps-2.0.1%2Bcu118.zip -O libtorch.zip\n",
        "!unzip libtorch.zip"
      ],
      "metadata": {
        "id": "iKHf-U76SFMx"
      },
      "execution_count": 1,
      "outputs": []
    },
    {
      "cell_type": "code",
      "source": [
        "%%writefile main.cpp\n",
        "\n",
        "// Importing the libraries\n",
        "#include <iostream>\n",
        "#include <torch/torch.h>\n",
        "#include <cmath>\n",
        "#include <filesystem>\n",
        "#include <vector>\n",
        "\n",
        "\n",
        "int main() {\n",
        "\n",
        "    // Set batch size\n",
        "    const int64_t batch_size = 64;\n",
        "\n",
        "    // Load MNIST training dataset\n",
        "    auto train_dataset = torch::data::datasets::MNIST(\"./data\")\n",
        "        .map(torch::data::transforms::Normalize<>(0.1307, 0.3081))\n",
        "        .map(torch::data::transforms::Stack<>());\n",
        "\n",
        "    // Create DataLoader for training\n",
        "    auto train_loader = torch::data::make_data_loader(\n",
        "        std::move(train_dataset),\n",
        "        torch::data::DataLoaderOptions().batch_size(batch_size).workers(2).drop_last(true));\n",
        "\n",
        "    // Print first batch shape\n",
        "    for (auto& batch : *train_loader) {\n",
        "        std::cout << \"Batch data shape: \" << batch.data.sizes() << \"\\n\";\n",
        "        std::cout << \"Batch target shape: \" << batch.target.sizes() << \"\\n\";\n",
        "        break; // Test 1 batch\n",
        "    }\n",
        "\n",
        "    return 0;\n",
        "}"
      ],
      "metadata": {
        "id": "N9Le_XAFICdn"
      },
      "execution_count": 2,
      "outputs": []
    },
    {
      "cell_type": "code",
      "source": [
        "# //////// Compile ///////////////////////////\n",
        "!g++ main.cpp -o main \\\n",
        "-I libtorch/include \\\n",
        "-I libtorch/include/torch/csrc/api/include \\\n",
        "-L libtorch/lib \\\n",
        "-ltorch -ltorch_cpu -ltorch_cuda -lc10 \\\n",
        "-Wl,-rpath=libtorch/lib \\\n",
        "-std=c++17 -O3\n",
        "\n",
        "\n",
        "!./main"
      ],
      "metadata": {
        "id": "XdO8-Tf6JITA"
      },
      "execution_count": 4,
      "outputs": []
    },
    {
      "cell_type": "code",
      "source": [],
      "metadata": {
        "id": "_iJpIQNlJLXr"
      },
      "execution_count": 4,
      "outputs": []
    }
  ]
}